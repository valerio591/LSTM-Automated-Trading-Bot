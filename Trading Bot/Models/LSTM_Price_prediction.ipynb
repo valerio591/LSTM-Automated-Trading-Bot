{
 "cells": [
  {
   "cell_type": "code",
   "execution_count": 1,
   "metadata": {},
   "outputs": [],
   "source": [
    "import pandas as pd\n",
    "import numpy as np\n",
    "import datetime as datetime\n",
    "import matplotlib",
    "import matplotlib.pyplot as plt\n",
    "from pandas import DataFrame\n",
    "from pandas import concat\n",
    "from sklearn.preprocessing import LabelEncoder\n",
    "from sklearn.preprocessing import MinMaxScaler\n",
    "from package import euklid_regressor as eu\n",
    "from sklearn.model_selection import train_test_split\n",
    "\n",
    "from keras.models import Sequential\n",
    "from keras.layers import Dense,Dropout\n",
    "from tensorflow.keras.layers import LSTM\n",
    "from keras.callbacks import EarlyStopping\n",
    "from keras import optimizers\n",
    "import tensorflow as tf",
    "\n",
    "%matplotlib widget"
   ]
  },
  {
   "cell_type": "code",
   "execution_count": 2,
   "metadata": {},
   "outputs": [],
   "source": [
    "yahoo_df = pd.read_csv('../data/BTC.csv')"
   ]
  },
  {
   "cell_type": "code",
   "execution_count": 3,
   "metadata": {},
   "outputs": [
    {
     "data": {
      "text/html": [
       "<div>\n",
       "<style scoped>\n",
       "    .dataframe tbody tr th:only-of-type {\n",
       "        vertical-align: middle;\n",
       "    }\n",
       "\n",
       "    .dataframe tbody tr th {\n",
       "        vertical-align: top;\n",
       "    }\n",
       "\n",
       "    .dataframe thead th {\n",
       "        text-align: right;\n",
       "    }\n",
       "</style>\n",
       "<table border=\"1\" class=\"dataframe\">\n",
       "  <thead>\n",
       "    <tr style=\"text-align: right;\">\n",
       "      <th></th>\n",
       "      <th>Close</th>\n",
       "      <th>SO</th>\n",
       "      <th>RSI_1</th>\n",
       "      <th>RSI_2</th>\n",
       "      <th>RSI_3</th>\n",
       "      <th>RSI_14</th>\n",
       "      <th>1 Day ROI</th>\n",
       "      <th>2 Day ROI</th>\n",
       "      <th>3 Day ROI</th>\n",
       "      <th>MACD_12_26_9</th>\n",
       "      <th>MACDh_12_26_9</th>\n",
       "      <th>MACDs_12_26_9</th>\n",
       "      <th>Previous_differenced</th>\n",
       "      <th>Differenced</th>\n",
       "    </tr>\n",
       "  </thead>\n",
       "  <tbody>\n",
       "    <tr>\n",
       "      <th>0</th>\n",
       "      <td>327.062012</td>\n",
       "      <td>0.000000</td>\n",
       "      <td>5.609768</td>\n",
       "      <td>10.299756</td>\n",
       "      <td>13.350601</td>\n",
       "      <td>32.532451</td>\n",
       "      <td>-0.052941</td>\n",
       "      <td>-0.069874</td>\n",
       "      <td>-0.058478</td>\n",
       "      <td>-8.046847</td>\n",
       "      <td>-3.686460</td>\n",
       "      <td>-4.360386</td>\n",
       "      <td>-0.017879</td>\n",
       "      <td>-0.052941</td>\n",
       "    </tr>\n",
       "    <tr>\n",
       "      <th>1</th>\n",
       "      <td>319.776001</td>\n",
       "      <td>0.000000</td>\n",
       "      <td>3.469386</td>\n",
       "      <td>7.456941</td>\n",
       "      <td>10.373527</td>\n",
       "      <td>30.310118</td>\n",
       "      <td>-0.022277</td>\n",
       "      <td>-0.074039</td>\n",
       "      <td>-0.090595</td>\n",
       "      <td>-10.013836</td>\n",
       "      <td>-4.522760</td>\n",
       "      <td>-5.491076</td>\n",
       "      <td>-0.052941</td>\n",
       "      <td>-0.022277</td>\n",
       "    </tr>\n",
       "    <tr>\n",
       "      <th>2</th>\n",
       "      <td>311.395996</td>\n",
       "      <td>0.000000</td>\n",
       "      <td>1.847709</td>\n",
       "      <td>5.051526</td>\n",
       "      <td>7.730101</td>\n",
       "      <td>27.956716</td>\n",
       "      <td>-0.026206</td>\n",
       "      <td>-0.047899</td>\n",
       "      <td>-0.098305</td>\n",
       "      <td>-12.109297</td>\n",
       "      <td>-5.294577</td>\n",
       "      <td>-6.814720</td>\n",
       "      <td>-0.022277</td>\n",
       "      <td>-0.026206</td>\n",
       "    </tr>\n",
       "    <tr>\n",
       "      <th>3</th>\n",
       "      <td>317.842987</td>\n",
       "      <td>9.849049</td>\n",
       "      <td>42.908428</td>\n",
       "      <td>30.808121</td>\n",
       "      <td>26.850732</td>\n",
       "      <td>32.290189</td>\n",
       "      <td>0.020704</td>\n",
       "      <td>-0.006045</td>\n",
       "      <td>-0.028187</td>\n",
       "      <td>-13.098752</td>\n",
       "      <td>-5.027226</td>\n",
       "      <td>-8.071527</td>\n",
       "      <td>-0.026206</td>\n",
       "      <td>0.020704</td>\n",
       "    </tr>\n",
       "    <tr>\n",
       "      <th>4</th>\n",
       "      <td>329.955994</td>\n",
       "      <td>29.137029</td>\n",
       "      <td>77.802607</td>\n",
       "      <td>60.787050</td>\n",
       "      <td>51.847908</td>\n",
       "      <td>39.603477</td>\n",
       "      <td>0.038110</td>\n",
       "      <td>0.059603</td>\n",
       "      <td>0.031835</td>\n",
       "      <td>-12.758414</td>\n",
       "      <td>-3.749509</td>\n",
       "      <td>-9.008904</td>\n",
       "      <td>0.020704</td>\n",
       "      <td>0.038110</td>\n",
       "    </tr>\n",
       "    <tr>\n",
       "      <th>...</th>\n",
       "      <td>...</td>\n",
       "      <td>...</td>\n",
       "      <td>...</td>\n",
       "      <td>...</td>\n",
       "      <td>...</td>\n",
       "      <td>...</td>\n",
       "      <td>...</td>\n",
       "      <td>...</td>\n",
       "      <td>...</td>\n",
       "      <td>...</td>\n",
       "      <td>...</td>\n",
       "      <td>...</td>\n",
       "      <td>...</td>\n",
       "      <td>...</td>\n",
       "    </tr>\n",
       "    <tr>\n",
       "      <th>2706</th>\n",
       "      <td>30101.265625</td>\n",
       "      <td>10.824275</td>\n",
       "      <td>70.958574</td>\n",
       "      <td>46.498772</td>\n",
       "      <td>36.749670</td>\n",
       "      <td>30.683438</td>\n",
       "      <td>0.027940</td>\n",
       "      <td>0.036268</td>\n",
       "      <td>0.040258</td>\n",
       "      <td>-2966.248122</td>\n",
       "      <td>-651.389194</td>\n",
       "      <td>-2314.858928</td>\n",
       "      <td>0.008102</td>\n",
       "      <td>0.027940</td>\n",
       "    </tr>\n",
       "    <tr>\n",
       "      <th>2707</th>\n",
       "      <td>31305.113281</td>\n",
       "      <td>22.010355</td>\n",
       "      <td>89.202858</td>\n",
       "      <td>68.431481</td>\n",
       "      <td>55.166004</td>\n",
       "      <td>35.843737</td>\n",
       "      <td>0.039993</td>\n",
       "      <td>0.069050</td>\n",
       "      <td>0.077712</td>\n",
       "      <td>-2840.874322</td>\n",
       "      <td>-420.812316</td>\n",
       "      <td>-2420.062007</td>\n",
       "      <td>0.027940</td>\n",
       "      <td>0.039993</td>\n",
       "    </tr>\n",
       "    <tr>\n",
       "      <th>2708</th>\n",
       "      <td>29862.917969</td>\n",
       "      <td>8.609563</td>\n",
       "      <td>35.607218</td>\n",
       "      <td>39.403873</td>\n",
       "      <td>37.653809</td>\n",
       "      <td>32.717422</td>\n",
       "      <td>-0.046069</td>\n",
       "      <td>-0.007918</td>\n",
       "      <td>0.019800</td>\n",
       "      <td>-2825.319270</td>\n",
       "      <td>-324.205811</td>\n",
       "      <td>-2501.113459</td>\n",
       "      <td>0.039993</td>\n",
       "      <td>-0.046069</td>\n",
       "    </tr>\n",
       "    <tr>\n",
       "      <th>2709</th>\n",
       "      <td>30425.857422</td>\n",
       "      <td>13.840362</td>\n",
       "      <td>56.167032</td>\n",
       "      <td>51.459469</td>\n",
       "      <td>46.493760</td>\n",
       "      <td>35.085322</td>\n",
       "      <td>0.018851</td>\n",
       "      <td>-0.028087</td>\n",
       "      <td>0.010783</td>\n",
       "      <td>-2736.028041</td>\n",
       "      <td>-187.931666</td>\n",
       "      <td>-2548.096376</td>\n",
       "      <td>-0.046069</td>\n",
       "      <td>0.018851</td>\n",
       "    </tr>\n",
       "    <tr>\n",
       "      <th>2710</th>\n",
       "      <td>28720.271484</td>\n",
       "      <td>0.000000</td>\n",
       "      <td>19.138636</td>\n",
       "      <td>27.024711</td>\n",
       "      <td>29.561447</td>\n",
       "      <td>31.487989</td>\n",
       "      <td>-0.056057</td>\n",
       "      <td>-0.038263</td>\n",
       "      <td>-0.082569</td>\n",
       "      <td>-2770.948857</td>\n",
       "      <td>-178.281985</td>\n",
       "      <td>-2592.666872</td>\n",
       "      <td>0.018851</td>\n",
       "      <td>-0.056057</td>\n",
       "    </tr>\n",
       "  </tbody>\n",
       "</table>\n",
       "<p>2711 rows × 14 columns</p>\n",
       "</div>"
      ],
      "text/plain": [
       "             Close         SO      RSI_1      RSI_2      RSI_3     RSI_14  \\\n",
       "0       327.062012   0.000000   5.609768  10.299756  13.350601  32.532451   \n",
       "1       319.776001   0.000000   3.469386   7.456941  10.373527  30.310118   \n",
       "2       311.395996   0.000000   1.847709   5.051526   7.730101  27.956716   \n",
       "3       317.842987   9.849049  42.908428  30.808121  26.850732  32.290189   \n",
       "4       329.955994  29.137029  77.802607  60.787050  51.847908  39.603477   \n",
       "...            ...        ...        ...        ...        ...        ...   \n",
       "2706  30101.265625  10.824275  70.958574  46.498772  36.749670  30.683438   \n",
       "2707  31305.113281  22.010355  89.202858  68.431481  55.166004  35.843737   \n",
       "2708  29862.917969   8.609563  35.607218  39.403873  37.653809  32.717422   \n",
       "2709  30425.857422  13.840362  56.167032  51.459469  46.493760  35.085322   \n",
       "2710  28720.271484   0.000000  19.138636  27.024711  29.561447  31.487989   \n",
       "\n",
       "      1 Day ROI  2 Day ROI  3 Day ROI  MACD_12_26_9  MACDh_12_26_9  \\\n",
       "0     -0.052941  -0.069874  -0.058478     -8.046847      -3.686460   \n",
       "1     -0.022277  -0.074039  -0.090595    -10.013836      -4.522760   \n",
       "2     -0.026206  -0.047899  -0.098305    -12.109297      -5.294577   \n",
       "3      0.020704  -0.006045  -0.028187    -13.098752      -5.027226   \n",
       "4      0.038110   0.059603   0.031835    -12.758414      -3.749509   \n",
       "...         ...        ...        ...           ...            ...   \n",
       "2706   0.027940   0.036268   0.040258  -2966.248122    -651.389194   \n",
       "2707   0.039993   0.069050   0.077712  -2840.874322    -420.812316   \n",
       "2708  -0.046069  -0.007918   0.019800  -2825.319270    -324.205811   \n",
       "2709   0.018851  -0.028087   0.010783  -2736.028041    -187.931666   \n",
       "2710  -0.056057  -0.038263  -0.082569  -2770.948857    -178.281985   \n",
       "\n",
       "      MACDs_12_26_9  Previous_differenced  Differenced  \n",
       "0         -4.360386             -0.017879    -0.052941  \n",
       "1         -5.491076             -0.052941    -0.022277  \n",
       "2         -6.814720             -0.022277    -0.026206  \n",
       "3         -8.071527             -0.026206     0.020704  \n",
       "4         -9.008904              0.020704     0.038110  \n",
       "...             ...                   ...          ...  \n",
       "2706   -2314.858928              0.008102     0.027940  \n",
       "2707   -2420.062007              0.027940     0.039993  \n",
       "2708   -2501.113459              0.039993    -0.046069  \n",
       "2709   -2548.096376             -0.046069     0.018851  \n",
       "2710   -2592.666872              0.018851    -0.056057  \n",
       "\n",
       "[2711 rows x 14 columns]"
      ]
     },
     "execution_count": 3,
     "metadata": {},
     "output_type": "execute_result"
    }
   ],
   "source": [
    "yahoo_df = yahoo_df[[\"Close\",'SO',\n",
    "                       'RSI_1', \n",
    "                    'RSI_2',\n",
    "                    'RSI_3',\n",
    "                    'RSI_14', \n",
    "                    '1 Day ROI', \n",
    "                    '2 Day ROI',\n",
    "                       '3 Day ROI', \n",
    "                    'MACD_12_26_9',\n",
    "                    'MACDh_12_26_9', \n",
    "                    'MACDs_12_26_9',\n",
    "                     \"Previous_differenced\",\n",
    "                    \"Differenced\"]]\n",
    "price = yahoo_df['Differenced'] \n",
    "close = yahoo_df['Close']\n",
    "yahoo_df"
   ]
  },
  {
   "cell_type": "code",
   "execution_count": 4,
   "metadata": {},
   "outputs": [
    {
     "data": {
      "text/plain": [
       "array([[ 3.2706201e+02,  0.0000000e+00,  5.6097679e+00, ...,\n",
       "        -4.3603864e+00, -1.7879453e-02, -5.2941229e-02],\n",
       "       [ 3.1977600e+02,  0.0000000e+00,  3.4693859e+00, ...,\n",
       "        -5.4910765e+00, -5.2941229e-02, -2.2277154e-02],\n",
       "       [ 3.1139600e+02,  0.0000000e+00,  1.8477088e+00, ...,\n",
       "        -6.8147206e+00, -2.2277154e-02, -2.6205860e-02],\n",
       "       ...,\n",
       "       [ 2.9862918e+04,  8.6095629e+00,  3.5607216e+01, ...,\n",
       "        -2.5011135e+03,  3.9993256e-02, -4.6069000e-02],\n",
       "       [ 3.0425857e+04,  1.3840363e+01,  5.6167030e+01, ...,\n",
       "        -2.5480964e+03, -4.6069000e-02,  1.8850785e-02],\n",
       "       [ 2.8720271e+04,  0.0000000e+00,  1.9138636e+01, ...,\n",
       "        -2.5926670e+03,  1.8850785e-02, -5.6057122e-02]], dtype=float32)"
      ]
     },
     "execution_count": 4,
     "metadata": {},
     "output_type": "execute_result"
    }
   ],
   "source": [
    "\n",
    "# convert series to supervised learning\n",
    "values = yahoo_df.values\n",
    "# ensure all data is float\n",
    "values = values.astype('float32')\n",
    "# normalize features\n",
    "values"
   ]
  },
  {
   "cell_type": "markdown",
   "metadata": {},
   "source": [
    "# Train, test, val"
   ]
  },
  {
   "cell_type": "code",
   "execution_count": 5,
   "metadata": {},
   "outputs": [],
   "source": [
    "X =  yahoo_df[[  'SO',\n",
    "                       'RSI_1', 'RSI_2', 'RSI_3', 'RSI_14', '1 Day ROI', '2 Day ROI',\n",
    "                       '3 Day ROI', 'MACD_12_26_9', 'MACDh_12_26_9', 'MACDs_12_26_9',\n",
    "                     \"Previous_differenced\",\n",
    "                    ]]\n",
    "\n",
    "y = yahoo_df[\"Differenced\"]"
   ]
  },
  {
   "cell_type": "code",
   "execution_count": 6,
   "metadata": {},
   "outputs": [],
   "source": [
    "# Split in 80/20 the dataframe\n",
    "X_train, X_test, y_train, y_test = train_test_split(X, y,\n",
    "                                                    test_size = 0.20,shuffle=False)\n",
    "close_train, close_test = train_test_split(close,test_size = 0.20, shuffle=False)\n",
    "\n",
    "close_train, close_test = list(close_train), list(close_test) "
   ]
  },
  {
   "cell_type": "code",
   "execution_count": 7,
   "metadata": {},
   "outputs": [],
   "source": [
    "X_train = X_train.astype('float32')\n",
    "X_test = X_test.astype('float32')"
   ]
  },
  {
   "cell_type": "code",
   "execution_count": 8,
   "metadata": {},
   "outputs": [
    {
     "name": "stdout",
     "output_type": "stream",
     "text": [
      "(2168, 1, 12)\n",
      "(2168,)\n"
     ]
    }
   ],
   "source": [
    "# reshape input to be 3D [samples, timesteps, features]\n",
    "X_train = X_train.values.reshape((X_train.shape[0], 1, X_train.shape[1]))\n",
    "X_test = X_test.values.reshape((X_test.shape[0], 1, X_test.shape[1]))\n",
    "\n",
    "y_train = y_train.values\n",
    "y_test = y_test.values\n",
    "print(X_train.shape)\n",
    "print(y_train.shape)"
   ]
  },
  {
   "cell_type": "markdown",
   "metadata": {},
   "source": [
    "# LSTM"
   ]
  },
  {
   "cell_type": "code",
   "execution_count": 9,
   "metadata": {},
   "outputs": [],
   "source": [
    "model = Sequential()\n",
    "model.add(LSTM(75, return_sequences=False))\n",
    "model.add(Dropout(0.2))\n",
    "#model.add(Dense(40))\n",
    "model.add(Dense(1))"
   ]
  },
  {
   "cell_type": "code",
   "execution_count": null,
   "metadata": {
    "scrolled": true
   },
   "outputs": [],
   "source": [
    "# Set early stopping monitor so the model stops training when it won't improve anymore\n",
    "esm = EarlyStopping(monitor = 'loss', patience = 70)\n",
    "# Set the optimizer\n",
    "opt = tf.optimizers.SGD(learning_rate = 0.001)\n",
    "#design network\n",
    "batch_size = int(round(X_train.shape[0]*0.1))\n",
    "# fit network\n",
    "model.compile(loss='mae', optimizer=opt)\n",
    "history = model.fit(X_train, y_train, epochs=2000, batch_size= batch_size, verbose=1,\n",
    "    shuffle=False, validation_split=0.10)"
   ]
  },
  {
   "cell_type": "code",
   "execution_count": 29,
   "metadata": {
    "scrolled": true
   },
   "outputs": [
    {
     "data": {
      "image/png": "[encoded data removed]",
      "text/plain": [
       "<Figure size 432x288 with 1 Axes>"
      ]
     },
     "metadata": {
      "needs_background": "light"
     },
     "output_type": "display_data"
    }
   ],
   "source": [
    "# plot history\n",
    "plt.plot(history.history['loss'], label='train')\n",
    "plt.plot(history.history['val_loss'], label='test')\n",
    "plt.legend()\n",
    "plt.show()"
   ]
  },
  {
   "cell_type": "code",
   "execution_count": 39,
   "metadata": {},
   "outputs": [
    {
     "name": "stderr",
     "output_type": "stream",
     "text": [
      "WARNING:absl:Found untraced functions such as lstm_cell_layer_call_fn, lstm_cell_layer_call_and_return_conditional_losses while saving (showing 2 of 2). These functions will not be directly callable after loading.\n"
     ]
    },
    {
     "name": "stdout",
     "output_type": "stream",
     "text": [
      "INFO:tensorflow:Assets written to: C://users/valer/LSTM_saved_model/assets\n"
     ]
    },
    {
     "name": "stderr",
     "output_type": "stream",
     "text": [
      "INFO:tensorflow:Assets written to: C://users/valer/LSTM_saved_model/assets\n",
      "WARNING:absl:<keras.layers.recurrent.LSTMCell object at 0x00000171EF9AAB80> has the same name 'LSTMCell' as a built-in Keras object. Consider renaming <class 'keras.layers.recurrent.LSTMCell'> to avoid naming conflicts when loading with `tf.keras.models.load_model`. If renaming is not possible, pass the object in the `custom_objects` parameter of the load function.\n"
     ]
    }
   ],
   "source": [
    "# Save model for later use\n",
    "path = 'C://users/valer/LSTM_saved_model' \n",
    "model.save(path)"
   ]
  },
  {
   "cell_type": "markdown",
   "metadata": {},
   "source": [
    "# Prediction "
   ]
  },
  {
   "cell_type": "code",
   "execution_count": 30,
   "metadata": {},
   "outputs": [],
   "source": [
    "predict = model.predict(X_test)\n",
    "predict = [float(predict[i]) for i in range(len(predict))]\n",
    "pred = eu.scale_back_pct(predict, close_test)\n",
    "updown_pred = eu.ud_pred(pred, close_test)"
   ]
  },
  {
   "cell_type": "code",
   "execution_count": 31,
   "metadata": {},
   "outputs": [
    {
     "name": "stdout",
     "output_type": "stream",
     "text": [
      "Model Accuracy:  0.6224677716390423\n"
     ]
    }
   ],
   "source": [
    "df = pd.DataFrame(updown_pred)\n",
    "df[\"Close\"] = list(close_test)\n",
    "df[\"updown_pred\"] = df.iloc[:,0]\n",
    "df[\"updown_actual\"] = eu.ud(close_test)\n",
    "df[\"Scaled_pred\"] = pred\n",
    "df[\"Pred\"] = predict\n",
    "df = df.iloc[:,1:] \n",
    "acc = (df[\"updown_pred\"] == df[\"updown_actual\"]).sum()/df.shape[0]\n",
    "print('Model Accuracy: ', acc)"
   ]
  },
  {
   "cell_type": "code",
   "execution_count": 32,
   "metadata": {},
   "outputs": [
    {
     "data": {
      "text/html": [
       "<div>\n",
       "<style scoped>\n",
       "    .dataframe tbody tr th:only-of-type {\n",
       "        vertical-align: middle;\n",
       "    }\n",
       "\n",
       "    .dataframe tbody tr th {\n",
       "        vertical-align: top;\n",
       "    }\n",
       "\n",
       "    .dataframe thead th {\n",
       "        text-align: right;\n",
       "    }\n",
       "</style>\n",
       "<table border=\"1\" class=\"dataframe\">\n",
       "  <thead>\n",
       "    <tr style=\"text-align: right;\">\n",
       "      <th></th>\n",
       "      <th>Close</th>\n",
       "      <th>updown_pred</th>\n",
       "      <th>updown_actual</th>\n",
       "      <th>Scaled_pred</th>\n",
       "      <th>Pred</th>\n",
       "    </tr>\n",
       "  </thead>\n",
       "  <tbody>\n",
       "    <tr>\n",
       "      <th>522</th>\n",
       "      <td>39773.828125</td>\n",
       "      <td>0</td>\n",
       "      <td>1</td>\n",
       "      <td>39123.937479</td>\n",
       "      <td>-0.002986</td>\n",
       "    </tr>\n",
       "    <tr>\n",
       "      <th>523</th>\n",
       "      <td>38609.824219</td>\n",
       "      <td>0</td>\n",
       "      <td>0</td>\n",
       "      <td>39151.138629</td>\n",
       "      <td>-0.015656</td>\n",
       "    </tr>\n",
       "    <tr>\n",
       "      <th>524</th>\n",
       "      <td>37714.875000</td>\n",
       "      <td>0</td>\n",
       "      <td>0</td>\n",
       "      <td>37383.995774</td>\n",
       "      <td>-0.031749</td>\n",
       "    </tr>\n",
       "    <tr>\n",
       "      <th>525</th>\n",
       "      <td>38469.093750</td>\n",
       "      <td>0</td>\n",
       "      <td>1</td>\n",
       "      <td>37508.735392</td>\n",
       "      <td>-0.005466</td>\n",
       "    </tr>\n",
       "    <tr>\n",
       "      <th>526</th>\n",
       "      <td>38529.328125</td>\n",
       "      <td>0</td>\n",
       "      <td>1</td>\n",
       "      <td>38283.708531</td>\n",
       "      <td>-0.004819</td>\n",
       "    </tr>\n",
       "    <tr>\n",
       "      <th>527</th>\n",
       "      <td>37750.453125</td>\n",
       "      <td>0</td>\n",
       "      <td>0</td>\n",
       "      <td>37432.100097</td>\n",
       "      <td>-0.028478</td>\n",
       "    </tr>\n",
       "    <tr>\n",
       "      <th>528</th>\n",
       "      <td>39698.371094</td>\n",
       "      <td>1</td>\n",
       "      <td>1</td>\n",
       "      <td>37870.042250</td>\n",
       "      <td>0.003168</td>\n",
       "    </tr>\n",
       "    <tr>\n",
       "      <th>529</th>\n",
       "      <td>36575.140625</td>\n",
       "      <td>0</td>\n",
       "      <td>0</td>\n",
       "      <td>38691.479786</td>\n",
       "      <td>-0.025364</td>\n",
       "    </tr>\n",
       "    <tr>\n",
       "      <th>530</th>\n",
       "      <td>36040.921875</td>\n",
       "      <td>0</td>\n",
       "      <td>0</td>\n",
       "      <td>35347.006893</td>\n",
       "      <td>-0.033578</td>\n",
       "    </tr>\n",
       "    <tr>\n",
       "      <th>531</th>\n",
       "      <td>35501.953125</td>\n",
       "      <td>0</td>\n",
       "      <td>0</td>\n",
       "      <td>34401.019684</td>\n",
       "      <td>-0.045501</td>\n",
       "    </tr>\n",
       "    <tr>\n",
       "      <th>532</th>\n",
       "      <td>34059.265625</td>\n",
       "      <td>0</td>\n",
       "      <td>0</td>\n",
       "      <td>32439.637233</td>\n",
       "      <td>-0.086258</td>\n",
       "    </tr>\n",
       "    <tr>\n",
       "      <th>533</th>\n",
       "      <td>30296.953125</td>\n",
       "      <td>0</td>\n",
       "      <td>0</td>\n",
       "      <td>30138.467477</td>\n",
       "      <td>-0.115117</td>\n",
       "    </tr>\n",
       "    <tr>\n",
       "      <th>534</th>\n",
       "      <td>31022.906250</td>\n",
       "      <td>0</td>\n",
       "      <td>1</td>\n",
       "      <td>28459.386983</td>\n",
       "      <td>-0.060652</td>\n",
       "    </tr>\n",
       "    <tr>\n",
       "      <th>535</th>\n",
       "      <td>28936.355469</td>\n",
       "      <td>0</td>\n",
       "      <td>0</td>\n",
       "      <td>27261.061634</td>\n",
       "      <td>-0.121260</td>\n",
       "    </tr>\n",
       "    <tr>\n",
       "      <th>536</th>\n",
       "      <td>29047.751953</td>\n",
       "      <td>0</td>\n",
       "      <td>1</td>\n",
       "      <td>25407.638050</td>\n",
       "      <td>-0.121948</td>\n",
       "    </tr>\n",
       "    <tr>\n",
       "      <th>537</th>\n",
       "      <td>29283.103516</td>\n",
       "      <td>0</td>\n",
       "      <td>1</td>\n",
       "      <td>26527.327700</td>\n",
       "      <td>-0.086768</td>\n",
       "    </tr>\n",
       "    <tr>\n",
       "      <th>538</th>\n",
       "      <td>30101.265625</td>\n",
       "      <td>0</td>\n",
       "      <td>1</td>\n",
       "      <td>28870.587311</td>\n",
       "      <td>-0.014087</td>\n",
       "    </tr>\n",
       "    <tr>\n",
       "      <th>539</th>\n",
       "      <td>31305.113281</td>\n",
       "      <td>0</td>\n",
       "      <td>1</td>\n",
       "      <td>29923.592515</td>\n",
       "      <td>-0.005903</td>\n",
       "    </tr>\n",
       "    <tr>\n",
       "      <th>540</th>\n",
       "      <td>29862.917969</td>\n",
       "      <td>0</td>\n",
       "      <td>0</td>\n",
       "      <td>28113.508554</td>\n",
       "      <td>-0.101952</td>\n",
       "    </tr>\n",
       "    <tr>\n",
       "      <th>541</th>\n",
       "      <td>30425.857422</td>\n",
       "      <td>0</td>\n",
       "      <td>1</td>\n",
       "      <td>28469.173728</td>\n",
       "      <td>-0.046671</td>\n",
       "    </tr>\n",
       "    <tr>\n",
       "      <th>542</th>\n",
       "      <td>28720.271484</td>\n",
       "      <td>0</td>\n",
       "      <td>0</td>\n",
       "      <td>25704.318242</td>\n",
       "      <td>-0.155182</td>\n",
       "    </tr>\n",
       "  </tbody>\n",
       "</table>\n",
       "</div>"
      ],
      "text/plain": [
       "            Close  updown_pred  updown_actual   Scaled_pred      Pred\n",
       "522  39773.828125            0              1  39123.937479 -0.002986\n",
       "523  38609.824219            0              0  39151.138629 -0.015656\n",
       "524  37714.875000            0              0  37383.995774 -0.031749\n",
       "525  38469.093750            0              1  37508.735392 -0.005466\n",
       "526  38529.328125            0              1  38283.708531 -0.004819\n",
       "527  37750.453125            0              0  37432.100097 -0.028478\n",
       "528  39698.371094            1              1  37870.042250  0.003168\n",
       "529  36575.140625            0              0  38691.479786 -0.025364\n",
       "530  36040.921875            0              0  35347.006893 -0.033578\n",
       "531  35501.953125            0              0  34401.019684 -0.045501\n",
       "532  34059.265625            0              0  32439.637233 -0.086258\n",
       "533  30296.953125            0              0  30138.467477 -0.115117\n",
       "534  31022.906250            0              1  28459.386983 -0.060652\n",
       "535  28936.355469            0              0  27261.061634 -0.121260\n",
       "536  29047.751953            0              1  25407.638050 -0.121948\n",
       "537  29283.103516            0              1  26527.327700 -0.086768\n",
       "538  30101.265625            0              1  28870.587311 -0.014087\n",
       "539  31305.113281            0              1  29923.592515 -0.005903\n",
       "540  29862.917969            0              0  28113.508554 -0.101952\n",
       "541  30425.857422            0              1  28469.173728 -0.046671\n",
       "542  28720.271484            0              0  25704.318242 -0.155182"
      ]
     },
     "execution_count": 32,
     "metadata": {},
     "output_type": "execute_result"
    }
   ],
   "source": [
    "df.tail(21)"
   ]
  },
  {
   "cell_type": "code",
   "execution_count": 33,
   "metadata": {},
   "outputs": [
    {
     "data": {
      "image/png": "[encoded data removed]",
      "text/plain": [
       "<Figure size 432x288 with 1 Axes>"
      ]
     },
     "metadata": {
      "needs_background": "light"
     },
     "output_type": "display_data"
    }
   ],
   "source": [
    "plt.plot(df['Scaled_pred'], label='pred')\n",
    "plt.plot(df[\"Close\"], label='Close')\n",
    "plt.legend()\n",
    "plt.show()"
   ]
  },
  {
   "cell_type": "code",
   "execution_count": 34,
   "metadata": {},
   "outputs": [
    {
     "data": {
      "text/plain": [
       "<matplotlib.legend.Legend at 0x1718998e1c0>"
      ]
     },
     "execution_count": 34,
     "metadata": {},
     "output_type": "execute_result"
    },
    {
     "data": {
      "image/png": "[encoded data removed]",
      "text/plain": [
       "<Figure size 432x288 with 1 Axes>"
      ]
     },
     "metadata": {
      "needs_background": "light"
     },
     "output_type": "display_data"
    }
   ],
   "source": [
    "df_equity = pd.DataFrame()\n",
    "df_equity[\"long_equity\"] = eu.long_equity(df[\"updown_pred\"], df[\"Close\"])\n",
    "df_equity[\"short_equity\"] = eu.short_equity(df[\"updown_pred\"], df[\"Close\"])\n",
    "df_equity[\"total_equity\"] = eu.total_equity(df[\"updown_pred\"], df[\"Close\"])\n",
    "plt.plot(np.array(df_equity.index), df_equity[\"short_equity\"])\n",
    "df_equity[\"short_equity\"].plot()\n",
    "df_equity[\"long_equity\"].plot()\n",
    "df_equity[\"total_equity\"].plot()\n",
    "df[\"Close\"].plot()\n",
    "# df[\"Pred\"].shift(-1).plot()\n",
    "plt.legend()"
   ]
  },
  {
   "cell_type": "code",
   "execution_count": 35,
   "metadata": {},
   "outputs": [
    {
     "data": {
      "text/html": [
       "<div>\n",
       "<style scoped>\n",
       "    .dataframe tbody tr th:only-of-type {\n",
       "        vertical-align: middle;\n",
       "    }\n",
       "\n",
       "    .dataframe tbody tr th {\n",
       "        vertical-align: top;\n",
       "    }\n",
       "\n",
       "    .dataframe thead th {\n",
       "        text-align: right;\n",
       "    }\n",
       "</style>\n",
       "<table border=\"1\" class=\"dataframe\">\n",
       "  <thead>\n",
       "    <tr style=\"text-align: right;\">\n",
       "      <th></th>\n",
       "      <th>long_equity</th>\n",
       "      <th>short_equity</th>\n",
       "      <th>total_equity</th>\n",
       "    </tr>\n",
       "  </thead>\n",
       "  <tbody>\n",
       "    <tr>\n",
       "      <th>0</th>\n",
       "      <td>18370.001953</td>\n",
       "      <td>18370.001953</td>\n",
       "      <td>18370.001953</td>\n",
       "    </tr>\n",
       "    <tr>\n",
       "      <th>1</th>\n",
       "      <td>18370.001953</td>\n",
       "      <td>18375.882812</td>\n",
       "      <td>18375.882812</td>\n",
       "    </tr>\n",
       "    <tr>\n",
       "      <th>2</th>\n",
       "      <td>18370.001953</td>\n",
       "      <td>17632.539062</td>\n",
       "      <td>17632.539062</td>\n",
       "    </tr>\n",
       "    <tr>\n",
       "      <th>3</th>\n",
       "      <td>18370.001953</td>\n",
       "      <td>18007.882812</td>\n",
       "      <td>18007.882812</td>\n",
       "    </tr>\n",
       "    <tr>\n",
       "      <th>4</th>\n",
       "      <td>18370.001953</td>\n",
       "      <td>19589.380859</td>\n",
       "      <td>19589.380859</td>\n",
       "    </tr>\n",
       "    <tr>\n",
       "      <th>...</th>\n",
       "      <td>...</td>\n",
       "      <td>...</td>\n",
       "      <td>...</td>\n",
       "    </tr>\n",
       "    <tr>\n",
       "      <th>537</th>\n",
       "      <td>150773.884766</td>\n",
       "      <td>139860.783203</td>\n",
       "      <td>272264.666016</td>\n",
       "    </tr>\n",
       "    <tr>\n",
       "      <th>538</th>\n",
       "      <td>150773.884766</td>\n",
       "      <td>139042.621094</td>\n",
       "      <td>271446.503906</td>\n",
       "    </tr>\n",
       "    <tr>\n",
       "      <th>539</th>\n",
       "      <td>150773.884766</td>\n",
       "      <td>137838.773438</td>\n",
       "      <td>270242.656250</td>\n",
       "    </tr>\n",
       "    <tr>\n",
       "      <th>540</th>\n",
       "      <td>150773.884766</td>\n",
       "      <td>139280.968750</td>\n",
       "      <td>271684.851562</td>\n",
       "    </tr>\n",
       "    <tr>\n",
       "      <th>541</th>\n",
       "      <td>150773.884766</td>\n",
       "      <td>138718.029297</td>\n",
       "      <td>271121.912109</td>\n",
       "    </tr>\n",
       "  </tbody>\n",
       "</table>\n",
       "<p>542 rows × 3 columns</p>\n",
       "</div>"
      ],
      "text/plain": [
       "       long_equity   short_equity   total_equity\n",
       "0     18370.001953   18370.001953   18370.001953\n",
       "1     18370.001953   18375.882812   18375.882812\n",
       "2     18370.001953   17632.539062   17632.539062\n",
       "3     18370.001953   18007.882812   18007.882812\n",
       "4     18370.001953   19589.380859   19589.380859\n",
       "..             ...            ...            ...\n",
       "537  150773.884766  139860.783203  272264.666016\n",
       "538  150773.884766  139042.621094  271446.503906\n",
       "539  150773.884766  137838.773438  270242.656250\n",
       "540  150773.884766  139280.968750  271684.851562\n",
       "541  150773.884766  138718.029297  271121.912109\n",
       "\n",
       "[542 rows x 3 columns]"
      ]
     },
     "execution_count": 35,
     "metadata": {},
     "output_type": "execute_result"
    }
   ],
   "source": [
    "df_equity"
   ]
  },
  {
   "cell_type": "markdown",
   "metadata": {},
   "source": [
    "# Trading report"
   ]
  },
  {
   "cell_type": "code",
   "execution_count": 36,
   "metadata": {},
   "outputs": [
    {
     "data": {
      "image/png": "[encoded data removed]",
      "text/plain": [
       "<Figure size 432x288 with 1 Axes>"
      ]
     },
     "metadata": {
      "needs_background": "light"
     },
     "output_type": "display_data"
    }
   ],
   "source": [
    "#dates = pd.to_datetime(yahoo_df['Date'].iloc[n_val_days+1:].reset_index()['Date'])\n",
    "df_equity['percentage_total_return'] = eu.percentage_returns(df_equity['total_equity'])\n",
    "df_equity['percentage_long_return'] = eu.percentage_returns(df_equity['long_equity'])\n",
    "df_equity['percentage_short_return'] = eu.percentage_returns(df_equity['short_equity'])\n",
    "df_equity['percentage_total_return_for_dd'] = eu.percentage_returns_for_dd(df_equity['total_equity'])\n",
    "df_equity['percentage_long_return_for_dd'] = eu.percentage_returns_for_dd(df_equity['long_equity'])\n",
    "df_equity['percentage_short_return_for_dd'] = eu.percentage_returns_for_dd(df_equity['short_equity'])\n",
    "df_equity['updown_actual'] = df['updown_actual']\n",
    "df_equity[\"updown_pred\"] = df[\"updown_pred\"]\n",
    "plt.plot( df_equity['percentage_total_return'], label = 'Total Percentage Returns')\n",
    "plt.plot( df_equity['percentage_long_return'], label = 'Long Percentage Returns')\n",
    "plt.plot( df_equity['percentage_short_return'], label = 'Short Percentage Returns')\n",
    "plt.xticks(rotation=45)\n",
    "plt.legend()   \n",
    "plt.show()"
   ]
  },
  {
   "cell_type": "code",
   "execution_count": 37,
   "metadata": {},
   "outputs": [
    {
     "data": {
      "text/plain": [
       "[39.332399428184004, 3.94224600018398, 0.008072157428443916]"
      ]
     },
     "execution_count": 37,
     "metadata": {},
     "output_type": "execute_result"
    }
   ],
   "source": [
    " eu.max_drawdown(df_equity['percentage_total_return_for_dd'])"
   ]
  },
  {
   "cell_type": "code",
   "execution_count": 38,
   "metadata": {},
   "outputs": [
    {
     "name": "stdout",
     "output_type": "stream",
     "text": [
      "Max drawdown:  39.332399428184004 %\n",
      "Average drwadown:  3.94224600018398 %\n",
      "Number of days a long position was held:  236\n",
      "Number of days a short position was held:  306\n"
     ]
    }
   ],
   "source": [
    "print('Max drawdown: ', eu.max_drawdown(df_equity['percentage_total_return_for_dd'])[0], '%')  \n",
    "print('Average drwadown: ', eu.max_drawdown(df_equity['percentage_total_return_for_dd'])[1], '%')\n",
    "print('Number of days a long position was held: ', eu.long_short_market_time(df_equity['updown_pred'])[0])       \n",
    "print('Number of days a short position was held: ', eu.long_short_market_time(df_equity['updown_pred'])[1]) "
   ]
  },
  {
   "cell_type": "code",
   "execution_count": null,
   "metadata": {},
   "outputs": [],
   "source": [
    "total_short = eu.number_of_trades(df_equity['short_equity'],df_equity['updown_pred'])\n",
    "winning_short = eu.number_of_winning_short_trades(df_equity['short_equity'],df_equity['updown_pred'])[0]\n",
    "total_long = eu.number_of_trades(df_equity['long_equity'],df_equity['updown_pred'])\n",
    "winning_long = eu.number_of_winning_long_trades(df_equity['long_equity'],df_equity['updown_pred'])[0]\n",
    "\n",
    "print('Total number of trades: ', eu.number_of_trades(df_equity['total_equity'],df_equity['updown_pred']))\n",
    "print('Average profit per trade: ', df_equity['percentage_total_return'][len(df_equity)-1]/(total_short + total_long))\n",
    "\n",
    "print('#####################')\n",
    "print('### SHORT RESULTS ###')\n",
    "print('#####################')\n",
    "print('\\n')\n",
    "print('Number of short trades: ', eu.number_of_trades(df_equity['short_equity'],df_equity['updown_pred']))\n",
    "print('Number of winning short trades: ', eu.number_of_winning_short_trades(df_equity['short_equity'],df_equity['updown_pred'])[0])\n",
    "print('Win ratio: ', winning_short/total_short)\n",
    "print('Short trades average loss: ', eu.number_of_winning_short_trades(df_equity['short_equity'],df_equity['updown_pred'])[2])\n",
    "print('Short trades average profit: ', eu.number_of_winning_short_trades(df_equity['short_equity'],df_equity['updown_pred'])[1])\n",
    "print('Short trades profit/loss ratio: ', eu.number_of_winning_short_trades(df_equity['short_equity'],df_equity['updown_pred'])[3])\n",
    "print('Short trades best profit: ', eu.number_of_winning_short_trades(df_equity['short_equity'],df_equity['updown_pred'])[4])\n",
    "print('Short trades worst loss: ', eu.number_of_winning_short_trades(df_equity['short_equity'],df_equity['updown_pred'])[5])\n",
    "print('Short trades average % loss: ', eu.number_of_winning_short_trades(df_equity['percentage_short_return_for_dd'],df_equity['updown_pred'])[2], '%')\n",
    "print('Short trades average % profit: ', eu.number_of_winning_short_trades(df_equity['percentage_short_return_for_dd'],df_equity['updown_pred'])[1], '%')\n",
    "print('Short trades best % profit: ', eu.number_of_winning_short_trades(df_equity['percentage_short_return_for_dd'],df_equity['updown_pred'])[4], '%')\n",
    "print('Short trades worst % loss: ', eu.number_of_winning_short_trades(df_equity['percentage_short_return_for_dd'],df_equity['updown_pred'])[5], '%')\n",
    "\n",
    "print('\\n')\n",
    "print('####################')\n",
    "print('### LONG RESULTS ###')\n",
    "print('#####################')\n",
    "print('\\n')\n",
    "print('Number of long trades: ', eu.number_of_trades(df_equity['long_equity'],df_equity['updown_pred']))\n",
    "print('Number of winning long trades: ', eu.number_of_winning_long_trades(df_equity['long_equity'],df_equity['updown_pred'])[0])\n",
    "print('Win ratio: ', winning_long/total_long)\n",
    "print('Long trades average loss: ', eu.number_of_winning_long_trades(df_equity['long_equity'],df_equity['updown_pred'])[2])\n",
    "print('Long trades average profit: ', eu.number_of_winning_long_trades(df_equity['long_equity'],df_equity['updown_pred'])[1])\n",
    "print('Long trades profit/loss ratio: ', eu.number_of_winning_long_trades(df_equity['long_equity'],df_equity['updown_pred'])[3])\n",
    "print('Long trades best profit: ', eu.number_of_winning_long_trades(df_equity['long_equity'],df_equity['updown_pred'])[4])\n",
    "print('Long trades worst loss: ', eu.number_of_winning_long_trades(df_equity['long_equity'],df_equity['updown_pred'])[5])\n",
    "print('Long trades average % loss: ', eu.number_of_winning_long_trades(df_equity['percentage_long_return_for_dd'],df_equity['updown_pred'])[2], '%')\n",
    "print('Long trades average % profit: ',eu.number_of_winning_long_trades(df_equity['percentage_long_return_for_dd'],df_equity['updown_pred'])[1], '%')\n",
    "print('Long trades best % profit: ', eu.number_of_winning_long_trades(df_equity['percentage_long_return_for_dd'],df_equity['updown_pred'])[4], '%')\n",
    "print('Long trades worst % loss: ', eu.number_of_winning_long_trades(df_equity['percentage_long_return_for_dd'],df_equity['updown_pred'])[5], '%')\n",
    "# print('Totale trades average profit: ', number_of_trades(df_equity['total_equity'],df_equity['updown_pred'])[1])"
   ]
  },
  {
   "cell_type": "code",
   "execution_count": null,
   "metadata": {},
   "outputs": [],
   "source": [
    "daily_yield = ((1+df_equity['percentage_total_return'][len(df_equity)-1]/100)**(1/len(df_equity))-1)*100\n",
    "daily_yield\n",
    "annualized_yield = (((1+daily_yield/100)**253)-1)*100\n",
    "annualized_yield\n",
    "print('Average compounded daily returns: ', daily_yield, ' %')\n",
    "print('Average compounded annual returns: ', annualized_yield, ' %')\n",
    "print('Max drawdown: ', eu.max_drawdown(df_equity['percentage_total_return_for_dd'])[0], '%')  \n",
    "print('Average drwadown: ', eu.max_drawdown(df_equity['percentage_total_return_for_dd'])[1], '%')\n",
    "print('Total period return: ', df_equity['percentage_total_return'][len(df_equity)-1], '%')"
   ]
  },
  {
   "cell_type": "code",
   "execution_count": null,
   "metadata": {},
   "outputs": [],
   "source": [
    "returns = pd.DataFrame({'Total (375 days) %': [df_equity['percentage_total_return'][len(df_equity)-1]],\n",
    "                       'Compounded Annual %' : [annualized_yield],\n",
    "                       'Compounded Daily %': [daily_yield]}, index = None)\n",
    "\n",
    "run_down = pd.DataFrame({'Maximum Drawdown %': [eu.max_drawdown(df_equity['percentage_total_return_for_dd'])[0]],\n",
    "                       'Average Drawdown %' : [eu.max_drawdown(df_equity['percentage_total_return_for_dd'])[1]]})\n",
    "\n",
    "efficiency_long = pd.DataFrame({'Average Win %': [eu.number_of_winning_long_trades(df_equity['percentage_long_return_for_dd'],df_equity['updown_pred'])[1]],\n",
    "                       'Average Loss %' : [eu.number_of_winning_long_trades(df_equity['percentage_long_return_for_dd'],df_equity['updown_pred'])[2]],\n",
    "                        'Time at market (days)' : [long_short_market_time(df_equity['updown_pred'])[0]]})\n",
    "\n",
    "efficiency_short = pd.DataFrame({'Average Win %': [eu.number_of_winning_short_trades(df_equity['percentage_short_return_for_dd'],df_equity['updown_pred'])[1]],\n",
    "                       'Average Loss %' : [eu.number_of_winning_short_trades(df_equity['percentage_short_return_for_dd'],df_equity['updown_pred'])[2]],\n",
    "                        'Time at market (days)' : [long_short_market_time(df_equity['updown_pred'])[1]]})\n",
    "\n",
    "# efficiency_total = pd.concat({\"Efficiency\": efficiency_long}, axis=1, names=[\"l1\", \"l2\"])\n",
    "\n",
    "trade_analysis_long = pd.DataFrame({'Total trades': [eu.number_of_trades(df_equity['long_equity'],df_equity['updown_pred'])],\n",
    "                                   'Positive': [eu.number_of_winning_long_trades(df_equity['long_equity'],df_equity['updown_pred'])[0]],\n",
    "                                   'Negative': [eu.number_of_trades(df_equity['long_equity'],df_equity['updown_pred'])-eu.number_of_winning_long_trades(df_equity['long_equity'],df_equity['updown_pred'])[0]],\n",
    "                                    'Positive trades %': [eu.number_of_winning_long_trades(df_equity['long_equity'],df_equity['updown_pred'])[0]/eu.number_of_trades(df_equity['long_equity'],df_equity['updown_pred'])*100],\n",
    "                                   'Best Profit %': [eu.number_of_winning_long_trades(df_equity['percentage_long_return_for_dd'],df_equity['updown_pred'])[4]],\n",
    "                                   'Worst Loss %': [eu.number_of_winning_long_trades(df_equity['percentage_long_return_for_dd'],df_equity['updown_pred'])[5]],\n",
    "                                   'Average Profit/Loss ratio': [eu.number_of_winning_long_trades(df_equity['percentage_long_return_for_dd'],df_equity['updown_pred'])[1]/eu.number_of_winning_long_trades(df_equity['percentage_long_return_for_dd'],df_equity['updown_pred'])[2]]})\n",
    "\n",
    "trade_analysis_short = pd.DataFrame({'Total trades': [eu.number_of_trades(df_equity['short_equity'],df_equity['updown_pred'])],\n",
    "                                   'Positive': [eu.number_of_winning_short_trades(df_equity['short_equity'],df_equity['updown_pred'])[0]],\n",
    "                                   'Negative': [eu.number_of_trades(df_equity['short_equity'],df_equity['updown_pred'])-eu.number_of_winning_short_trades(df_equity['short_equity'],df_equity['updown_pred'])[0]],\n",
    "                                    'Positive trades %': [eu.number_of_winning_short_trades(df_equity['short_equity'],df_equity['updown_pred'])[0]/eu.number_of_trades(df_equity['short_equity'],df_equity['updown_pred'])*100],\n",
    "                                   'Best Profit %': [eu.number_of_winning_short_trades(df_equity['percentage_short_return_for_dd'],df_equity['updown_pred'])[4]],\n",
    "                                   'Worst Loss %': [eu.number_of_winning_short_trades(df_equity['percentage_short_return_for_dd'],df_equity['updown_pred'])[5]],\n",
    "                                   'Average Profit/Loss ratio': [eu.number_of_winning_short_trades(df_equity['percentage_short_return_for_dd'],df_equity['updown_pred'])[1]/eu.number_of_winning_short_trades(df_equity['percentage_short_return_for_dd'],df_equity['updown_pred'])[2]]})\n",
    "\n",
    "efficiency_total = pd.concat({\"Long\" : efficiency_long, \"Short\" : efficiency_short})\n",
    "\n",
    "trade_analysis_total = pd.concat({\"Long\" : trade_analysis_long, \"Short\" : trade_analysis_short})\n",
    "                                \n",
    "final = pd.concat({\"Returns\" : returns,\"Run Down\": run_down,\"Efficiency long\": efficiency_long, \"Efficiency short\": efficiency_short, \"Trade Analysis Long\": trade_analysis_long, \"Trade Analysis Short\": trade_analysis_short}, axis=1)"
   ]
  },
  {
   "cell_type": "code",
   "execution_count": null,
   "metadata": {},
   "outputs": [],
   "source": [
    "final.to_csv('../data/Report_BTC.xls')"
   ]
  }
 ],
 "metadata": {
  "kernelspec": {
   "display_name": "Python 3",
   "language": "python",
   "name": "python3"
  },
  "language_info": {
   "codemirror_mode": {
    "name": "ipython",
    "version": 3
   },
   "file_extension": ".py",
   "mimetype": "text/x-python",
   "name": "python",
   "nbconvert_exporter": "python",
   "pygments_lexer": "ipython3",
   "version": "3.8.5"
  }
 },
 "nbformat": 4,
 "nbformat_minor": 4
}
