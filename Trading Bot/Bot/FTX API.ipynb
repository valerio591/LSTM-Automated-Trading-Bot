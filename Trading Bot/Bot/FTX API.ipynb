{
 "cells": [
  {
   "cell_type": "markdown",
   "metadata": {},
   "source": [
    "### Import libraries"
   ]
  },
  {
   "cell_type": "code",
   "execution_count": 1,
   "metadata": {},
   "outputs": [],
   "source": [
    "# Import libraries for the query\n",
    "import time\n",
    "import hmac\n",
    "from requests import Request, Session, Response\n",
    "import requests\n",
    "\n",
    "# Import libraries for model loading\n",
    "import tensorflow as tf\n",
    "import sklearn as skl\n",
    "\n",
    "# Import generally useful libraries\n",
    "import numpy as np\n",
    "import pandas as pd\n",
    "import matplotlib as mpl\n",
    "\n",
    "# Import custom libraries to compute indicators\n",
    "from package import euklid_regressor as eur \n",
    "from package import indicator as ind\n",
    "\n",
    "# Import custom library to interface with FTX API\n",
    "from package import FTXClient\n",
    "import datetime as datetime\n",
    "\n",
    "# Load environemnt variables\n",
    "from os import getenv\n",
    "from pathlib import Path\n",
    "from dotenv import load_dotenv\n",
    "dotenv_path = Path('Trading Bot/Bot/.env')\n",
    "load_dotenv(dotenv_path=dotenv_path)\n",
    "\n",
    "# Set off warnings\n",
    "import warnings\n",
    "import pytz\n",
    "warnings.filterwarnings(\"ignore\")\n"
   ]
  },
  {
   "cell_type": "code",
   "execution_count": 3,
   "metadata": {},
   "outputs": [
    {
     "name": "stdout",
     "output_type": "stream",
     "text": [
      "Yes\n"
     ]
    }
   ],
   "source": [
    "pytz.timezone(\"Europe/London\")\n",
    "today = datetime.datetime.now(pytz.timezone(\"Europe/Rome\"))\n",
    "if today.day == datetime.datetime.now(pytz.timezone(\"Europe/Rome\")).day:\n",
    "    print(\"Yes\")\n",
    "else:\n",
    "    print(\"No\")"
   ]
  },
  {
   "cell_type": "markdown",
   "metadata": {},
   "source": [
    "### Import LSTM model"
   ]
  },
  {
   "cell_type": "code",
   "execution_count": null,
   "metadata": {},
   "outputs": [],
   "source": [
    "path = 'C://users/valer/LSTM_saved_model' # Insert path where the model has been saved\n",
    "model = tf.keras.models.load_model(path)"
   ]
  },
  {
   "cell_type": "markdown",
   "metadata": {},
   "source": [
    "### Sample code for computational time checking"
   ]
  },
  {
   "cell_type": "code",
   "execution_count": 4,
   "metadata": {},
   "outputs": [],
   "source": [
    "# Save code to check execution time\n",
    "# start_time = time.time()\n",
    "# print('Time elapsed: ' + str(time.time()-start_time))\n",
    "\n",
    "# Initiate TCP Session\n",
    "s = requests.Session()\n",
    "\n",
    "# Set subaccount access credentials\n",
    "dotenv_path = Path('Trading Bot/Bot/.env')\n",
    "api_key = getenv('API_KEY')\n",
    "api_secret = getenv('API_SECRET')\n",
    "subaccount_name = getenv('SUBACCOUNT_NAME')\n",
    "\n",
    "# Initialize useful variables\n",
    "CLIENT_ID = 0\n",
    "ID = 0\n",
    "ORDER_ID = 0"
   ]
  },
  {
   "cell_type": "code",
   "execution_count": 5,
   "metadata": {},
   "outputs": [
    {
     "name": "stdout",
     "output_type": "stream",
     "text": [
      "2022-08-01 15:42:03.201964+02:00\n"
     ]
    }
   ],
   "source": [
    "# Create client instance to use the methods\n",
    "client = FTXClient.FtxClient(api_key, api_secret,subaccount_name)\n",
    "from datetime import date\n",
    "today = datetime.datetime.now(pytz.timezone(\"Europe/Rome\"))\n",
    "print(today)"
   ]
  },
  {
   "cell_type": "markdown",
   "metadata": {},
   "source": [
    "### Strategy execution"
   ]
  },
  {
   "cell_type": "markdown",
   "metadata": {},
   "source": [
    "There are two types of execution: market and limit. The former is the easiest one and can be used when the\n",
    "trading balance isn't large enough to justify a more efficient order execution engine. The latter consists of \n",
    "a series of limit orders placed right underneeth the current market price. It should take at most 20 minutes to execute limit\n",
    "orders (for both closing the current position and opening a new one). If the time passes without the full position size\n",
    "being filled it executes a market order to fill the remaining size."
   ]
  },
  {
   "cell_type": "markdown",
   "metadata": {},
   "source": [
    "#### Market execution"
   ]
  },
  {
   "cell_type": "code",
   "execution_count": null,
   "metadata": {},
   "outputs": [],
   "source": [
    "while True:\n",
    "    # REMEMBER TO CHANGE BACK TO TODAY.DAY!!!!!!\n",
    "    if today.minute == datetime.datetime.now(pytz.timezone(\"Europe/Rome\")).minute:\n",
    "        pass\n",
    "    else:\n",
    "        today = datetime.datetime.now(pytz.timezone(\"Europe/Rome\"))\n",
    "        end_time = int(round(datetime.datetime.now(pytz.timezone(\"Europe/Rome\")).timestamp()))\n",
    "        price = client.get_historical_prices(market = 'BTC-PERP', start_time = 1649541600, end_time = end_time)\n",
    "        orders_placed = client.get_orders_placed()\n",
    "        positions = client.get_positions()\n",
    "        balances = client.get_balances()[0]['total']\n",
    "        # Reconstruct the data to pass into the model\n",
    "        close = [i['close'] for i in price]\n",
    "        print(close[-1])\n",
    "        df2 = pd.DataFrame({'Close': close})\n",
    "        eur.macd(df2,df2['Close'])\n",
    "        df2['SO'] = eur.Stochastic_Oscillator(df2['Close'])\n",
    "        df2['1 Day ROI']=ind.ROI(df2,1)\n",
    "        df2['2 Day ROI']=ind.ROI(df2,2)\n",
    "        df2['3 Day ROI']=ind.ROI(df2,3)\n",
    "        df2['RSI_1'] = eur.rsi(df2['Close'],1)\n",
    "        df2['RSI_2'] = eur.rsi(df2['Close'],2)\n",
    "        df2['RSI_3'] = eur.rsi(df2['Close'],3)\n",
    "        df2['RSI_14'] = eur.rsi(df2['Close'],14)\n",
    "        differenced = (df2['Close'] - df2['Close'].shift(1))/(df2['Close'].shift(1))[1:]\n",
    "        previous_differenced = differenced.shift(1)\n",
    "        df2[\"Differenced\"] = differenced\n",
    "        df2[\"Previous_differenced\"] = previous_differenced\n",
    "        x = df2[['SO','RSI_1', 'RSI_2', 'RSI_3', 'RSI_14', '1 Day ROI', '2 Day ROI', '3 Day ROI', 'MACD_12_26_9', 'MACDh_12_26_9',\n",
    "          'MACDs_12_26_9', \"Previous_differenced\"]]\n",
    "        x = x.iloc[33:,:]\n",
    "        X = x.values.reshape((x.shape[0], 1, x.shape[1]))\n",
    "        X = X.astype('float32')\n",
    "        X = tf.convert_to_tensor(X)\n",
    "        predict = model.predict(X)\n",
    "        if predict[-1] >= 0 and predict[-2] >= 0:\n",
    "            if not positions is True:\n",
    "                # Send POST request to place buy order\n",
    "                print('Send buy order on: ', today)\n",
    "                balance = client.get_balances()[0]['total']\n",
    "                size = balance / close[-1]\n",
    "                CLIENT_ID += 1\n",
    "                client.place_order('BTC-PERP', 'buy', price=None, size=size, client_id=str(CLIENT_ID), type='market')\n",
    "                # ORDER_ID = client.get_orders_placed()[0]['id']\n",
    "            else:\n",
    "                print('Keep long position on: ', today)\n",
    "        elif predict[-1] >= 0 and predict[-2] <= 0:\n",
    "            if not positions is True:\n",
    "                # Send POST request to place sell order\n",
    "                print('Send buy order on: ', today)\n",
    "                balance = client.get_balances()[0]['total']\n",
    "                size = balance / close[-1]\n",
    "                CLIENT_ID += 1\n",
    "                client.place_order('BTC-PERP', 'buy', price=None, size=size, client_id=str(CLIENT_ID), type='market')\n",
    "                # ORDER_ID = client.get_orders_placed()[0]['id']\n",
    "            else:\n",
    "                print('Close short and go long on: ', today)\n",
    "                CLIENT_ID += 1\n",
    "                size = client.get_positions()['size']\n",
    "                client.place_order('BTC-PERP', 'buy', price=None, size=size, client_id=str(CLIENT_ID), type='market',\n",
    "                                   reduce_only=True)\n",
    "                balance = client.get_balances()[0]['total']\n",
    "                size = balance / close[-1]\n",
    "                CLIENT_ID += 1\n",
    "                client.place_order('BTC-PERP', 'buy', price=None, size=size, client_id=str(CLIENT_ID), type='market')\n",
    "                # ORDER_ID = client.get_orders_placed()[0]['id']\n",
    "\n",
    "        elif predict[-1] < 0 and predict[-2] >= 0:\n",
    "            if not positions is True:\n",
    "                # Send POST request to place buy order\n",
    "                print('Send sell order on: ', today)\n",
    "                balance = client.get_balances()[0]['total']\n",
    "                size = balance / close[-1]\n",
    "                CLIENT_ID += 1\n",
    "                client.place_order('BTC-PERP', 'sell', price=None, size=size, client_id=str(CLIENT_ID), type='market')\n",
    "                # ORDER_ID = client.get_orders_placed()[0]['id']\n",
    "            else:\n",
    "                print('Close long and go short on: ', today)\n",
    "                CLIENT_ID += 1\n",
    "                size = client.get_positions()['size']\n",
    "                client.place_order('BTC-PERP', 'sell', price=None, size=size, client_id=str(CLIENT_ID), type='market',\n",
    "                                   reduce_only=True)\n",
    "                balance = client.get_balances()[0]['total']\n",
    "                size = balance / close[-1]\n",
    "                CLIENT_ID += 1\n",
    "                client.place_order('BTC-PERP', 'sell', price=None, size=size, client_id=str(CLIENT_ID), type='market')\n",
    "                # ORDER_ID = client.get_orders_placed()[0]['id']\n",
    "        else:\n",
    "            if not positions is True:\n",
    "                # Send POST request to place buy order\n",
    "                print('Send sell order on: ', today)\n",
    "                balance = client.get_balances()[0]['total']\n",
    "                size = balance / close[-1]\n",
    "                CLIENT_ID += 1\n",
    "                client.place_order('BTC-PERP', 'sell', price=None, size=size, client_id=str(CLIENT_ID), type='market')\n",
    "                # ORDER_ID = client.get_orders_placed()[0]['id']\n",
    "            else:\n",
    "                print('Keep short position on: ', today)"
   ]
  },
  {
   "cell_type": "code",
   "execution_count": 14,
   "metadata": {},
   "outputs": [
    {
     "name": "stdout",
     "output_type": "stream",
     "text": [
      "https://ftx.com/api/positions\n",
      "https://ftx.com/api/wallet/balances\n",
      "https://ftx.com/api/positions\n",
      "(0.0, 109.58614543)\n",
      "----------------------\n",
      " True\n"
     ]
    }
   ],
   "source": [
    "positions = client.get_positions()\n",
    "balance = client.get_balances()[0]['total']\n",
    "futures_list = client.get_positions()['size']\n",
    "print((futures_list, balance))\n",
    "time.sleep(4)\n",
    "print('----------------------\\n', positions['size'] == 0.0)"
   ]
  }
 ],
 "metadata": {
  "kernelspec": {
   "display_name": "Python 3",
   "language": "python",
   "name": "python3"
  },
  "language_info": {
   "codemirror_mode": {
    "name": "ipython",
    "version": 3
   },
   "file_extension": ".py",
   "mimetype": "text/x-python",
   "name": "python",
   "nbconvert_exporter": "python",
   "pygments_lexer": "ipython3",
   "version": "3.8.5"
  }
 },
 "nbformat": 4,
 "nbformat_minor": 4
}
